{
 "cells": [
  {
   "cell_type": "markdown",
   "id": "fb03a6c3",
   "metadata": {},
   "source": [
    "## SORU-1"
   ]
  },
  {
   "cell_type": "markdown",
   "id": "2924e8c3",
   "metadata": {},
   "source": [
    "Aşağıdaki listeyi düzleştiren(flatten) bir fonksiyon yazın.\n",
    "input: [[1,\"a\",[\"cat\"],2],[[[3]],\"dog\"],4,5] "
   ]
  },
  {
   "cell_type": "code",
   "execution_count": 51,
   "id": "47942410",
   "metadata": {},
   "outputs": [],
   "source": [
    "veri = [[1,\"a\",[\"cat\"],2],[[[3]],\"dog\"],4,5] \n",
    "yeni_veri=[]\n",
    "\n",
    "def düzlestir(a):\n",
    "    \n",
    "    for i in a:\n",
    "        \n",
    "        if type(i) == list:       \n",
    "            düzlestir(i)\n",
    "            \n",
    "        else:\n",
    "            yeni_veri.append(i)\n",
    "    "
   ]
  },
  {
   "cell_type": "code",
   "execution_count": 52,
   "id": "df9266cb",
   "metadata": {},
   "outputs": [
    {
     "data": {
      "text/plain": [
       "[1, 'a', 'cat', 2, 3, 'dog', 4, 5]"
      ]
     },
     "execution_count": 52,
     "metadata": {},
     "output_type": "execute_result"
    }
   ],
   "source": [
    "düzlestir(veri)\n",
    "yeni_veri\n"
   ]
  },
  {
   "cell_type": "markdown",
   "id": "f23f6f63",
   "metadata": {},
   "source": [
    "##  SORU-2"
   ]
  },
  {
   "cell_type": "markdown",
   "id": "83021eca",
   "metadata": {},
   "source": [
    "Aşağıda verilen listenin içindeki elemanları tersine döndüren bir fonksiyon yazın.\n",
    "\n",
    "Eğer listenin içerisinde ki elemanlarda liste içeriyorsa onları da tersine döndürün.\n",
    "input:[[1,2],[3,4],[5,6,7]]"
   ]
  },
  {
   "cell_type": "code",
   "execution_count": 54,
   "id": "4a970909",
   "metadata": {},
   "outputs": [
    {
     "data": {
      "text/plain": [
       "[[7, 6, 5], [4, 3], [2, 1]]"
      ]
     },
     "execution_count": 54,
     "metadata": {},
     "output_type": "execute_result"
    }
   ],
   "source": [
    "liste = [[1, 2], [3, 4], [5, 6, 7]]\n",
    "n=len(liste)\n",
    "for i in range(n):\n",
    "    liste[i].reverse()    \n",
    "    liste.reverse()\n",
    "liste"
   ]
  },
  {
   "cell_type": "code",
   "execution_count": null,
   "id": "94593c9a",
   "metadata": {},
   "outputs": [],
   "source": []
  }
 ],
 "metadata": {
  "kernelspec": {
   "display_name": "Python 3 (ipykernel)",
   "language": "python",
   "name": "python3"
  },
  "language_info": {
   "codemirror_mode": {
    "name": "ipython",
    "version": 3
   },
   "file_extension": ".py",
   "mimetype": "text/x-python",
   "name": "python",
   "nbconvert_exporter": "python",
   "pygments_lexer": "ipython3",
   "version": "3.9.7"
  }
 },
 "nbformat": 4,
 "nbformat_minor": 5
}
